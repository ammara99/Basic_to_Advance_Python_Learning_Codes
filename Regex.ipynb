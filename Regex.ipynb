{
 "cells": [
  {
   "cell_type": "code",
   "execution_count": 15,
   "metadata": {},
   "outputs": [],
   "source": [
    "import numpy as np\n",
    "import pandas as pd\n",
    "import requests\n",
    "from bs4 import BeautifulSoup\n",
    "import re\n",
    "import nltk\n",
    "import string\n",
    "from nltk.stem import WordNetLemmatizer\n",
    "from nltk.corpus import stopwords"
   ]
  },
  {
   "cell_type": "code",
   "execution_count": 16,
   "metadata": {},
   "outputs": [],
   "source": [
    "def url_script(url):\n",
    "    page = requests.get(url).text\n",
    "    soup = BeautifulSoup(page,'lxml')\n",
    "    text = [ p.text for p in soup.find(class_ = 'elementor-element elementor-element-74af9a5b elementor-widget elementor-widget-theme-post-content').find_all('p') ]\n",
    "    print(url)\n",
    "    return text"
   ]
  },
  {
   "cell_type": "code",
   "execution_count": 17,
   "metadata": {},
   "outputs": [
    {
     "name": "stdout",
     "output_type": "stream",
     "text": [
      "https://scrapsfromtheloft.com/2020/08/23/umberto-eco-narrative-structure-ian-fleming/\n"
     ]
    }
   ],
   "source": [
    "data_text= url_script('https://scrapsfromtheloft.com/2020/08/23/umberto-eco-narrative-structure-ian-fleming/')"
   ]
  },
  {
   "cell_type": "code",
   "execution_count": 18,
   "metadata": {
    "scrolled": true
   },
   "outputs": [
    {
     "name": "stdout",
     "output_type": "stream",
     "text": [
      "In 1953 Ian Fleming published the first novel in the 007 series, Casino Royale. Being a first work, it is subject to the then current literary influence, and in the fifties, which had abandoned the traditional detective whodunit trail in favour of violent action, it was impossible to ignore the presence of Spillane.\n"
     ]
    }
   ],
   "source": [
    "print(data_text[2])"
   ]
  },
  {
   "cell_type": "code",
   "execution_count": 19,
   "metadata": {},
   "outputs": [],
   "source": [
    "df_scrap= pd.DataFrame()"
   ]
  },
  {
   "cell_type": "code",
   "execution_count": 20,
   "metadata": {},
   "outputs": [],
   "source": [
    "df_scrap['raw-data']= np.array(data_text)"
   ]
  },
  {
   "cell_type": "code",
   "execution_count": 21,
   "metadata": {},
   "outputs": [
    {
     "data": {
      "text/html": [
       "<div>\n",
       "<style scoped>\n",
       "    .dataframe tbody tr th:only-of-type {\n",
       "        vertical-align: middle;\n",
       "    }\n",
       "\n",
       "    .dataframe tbody tr th {\n",
       "        vertical-align: top;\n",
       "    }\n",
       "\n",
       "    .dataframe thead th {\n",
       "        text-align: right;\n",
       "    }\n",
       "</style>\n",
       "<table border=\"1\" class=\"dataframe\">\n",
       "  <thead>\n",
       "    <tr style=\"text-align: right;\">\n",
       "      <th></th>\n",
       "      <th>raw-data</th>\n",
       "    </tr>\n",
       "  </thead>\n",
       "  <tbody>\n",
       "    <tr>\n",
       "      <th>0</th>\n",
       "      <td>In the following excerpt, originally published...</td>\n",
       "    </tr>\n",
       "    <tr>\n",
       "      <th>1</th>\n",
       "      <td>by Umberto Eco</td>\n",
       "    </tr>\n",
       "    <tr>\n",
       "      <th>2</th>\n",
       "      <td>In 1953 Ian Fleming published the first novel ...</td>\n",
       "    </tr>\n",
       "    <tr>\n",
       "      <th>3</th>\n",
       "      <td>To Spillane, Casino Royale owes, beyond doubt,...</td>\n",
       "    </tr>\n",
       "    <tr>\n",
       "      <th>4</th>\n",
       "      <td>In the second place Bond is obsessed by an ima...</td>\n",
       "    </tr>\n",
       "  </tbody>\n",
       "</table>\n",
       "</div>"
      ],
      "text/plain": [
       "                                            raw-data\n",
       "0  In the following excerpt, originally published...\n",
       "1                                     by Umberto Eco\n",
       "2  In 1953 Ian Fleming published the first novel ...\n",
       "3  To Spillane, Casino Royale owes, beyond doubt,...\n",
       "4  In the second place Bond is obsessed by an ima..."
      ]
     },
     "execution_count": 21,
     "metadata": {},
     "output_type": "execute_result"
    }
   ],
   "source": [
    "df_scrap.head()"
   ]
  },
  {
   "cell_type": "code",
   "execution_count": 8,
   "metadata": {},
   "outputs": [],
   "source": [
    "df_scrap.to_csv(\"scrap_raw_data.csv\", index=True)"
   ]
  },
  {
   "cell_type": "markdown",
   "metadata": {},
   "source": [
    "# PreProcessing"
   ]
  },
  {
   "cell_type": "code",
   "execution_count": 9,
   "metadata": {},
   "outputs": [
    {
     "data": {
      "text/plain": [
       "124"
      ]
     },
     "execution_count": 9,
     "metadata": {},
     "output_type": "execute_result"
    }
   ],
   "source": [
    "len(data_text)"
   ]
  },
  {
   "cell_type": "code",
   "execution_count": 13,
   "metadata": {},
   "outputs": [],
   "source": [
    "documents = []\n",
    "stemmer = WordNetLemmatizer()\n",
    "for i in range(0, len(data_text)):\n",
    "    # Remove all the special characters\n",
    "    doc = re.sub(r'\\W', ' ', str( data_text[i]))\n",
    "    \n",
    "    # remove all punctuations\n",
    "    doc = re.sub(re.escape(string.punctuation), '', doc)\n",
    "    \n",
    "    # remove all single characters\n",
    "    doc = re.sub(r'\\s+[a-zA-Z]\\s+', ' ',  doc)\n",
    "    \n",
    "    # Remove single characters from the start\n",
    "    doc = re.sub(r'\\^[a-zA-Z]\\s+', ' ',  doc) \n",
    "    \n",
    "    # Substituting multiple spaces with single space\n",
    "    doc = re.sub(r'\\s+', ' ',  doc, flags=re.I)\n",
    "    \n",
    "    # Removing prefixed 'b'\n",
    "    doc = re.sub(r'^b\\s+', '',  doc)\n",
    "    \n",
    "    # Converting to Lowercase\n",
    "    doc = doc.lower()\n",
    "    \n",
    "    # Lemmatization\n",
    "    doc =  doc.split() \n",
    "    doc = [stemmer.lemmatize(word) for word in  doc]\n",
    "    doc = ' '.join( doc)\n",
    "    doc = [ word for word in  doc.split() if word not in stopwords.words(\"english\")]\n",
    "    doc = ' '.join( doc)\n",
    "    \n",
    "    documents.append( doc)\n",
    "    "
   ]
  },
  {
   "cell_type": "code",
   "execution_count": 14,
   "metadata": {},
   "outputs": [
    {
     "data": {
      "text/plain": [
       "'following excerpt originally published italian 1965 eco offer detailed examination narrative formula fleming employed bond novel strategy eco regard basis success 007 saga'"
      ]
     },
     "execution_count": 14,
     "metadata": {},
     "output_type": "execute_result"
    }
   ],
   "source": [
    "documents[0]"
   ]
  },
  {
   "cell_type": "code",
   "execution_count": 13,
   "metadata": {},
   "outputs": [],
   "source": [
    "df = pd.DataFrame()\n",
    "df['original']= data_text\n",
    "df[\"Document\"]= documents"
   ]
  },
  {
   "cell_type": "code",
   "execution_count": 14,
   "metadata": {},
   "outputs": [],
   "source": [
    "df.to_csv(\"clean_data.csv\", index=False)"
   ]
  },
  {
   "cell_type": "code",
   "execution_count": 15,
   "metadata": {},
   "outputs": [],
   "source": [
    "df= pd.read_csv('clean_data.csv')"
   ]
  },
  {
   "cell_type": "code",
   "execution_count": 16,
   "metadata": {},
   "outputs": [
    {
     "data": {
      "text/html": [
       "<div>\n",
       "<style scoped>\n",
       "    .dataframe tbody tr th:only-of-type {\n",
       "        vertical-align: middle;\n",
       "    }\n",
       "\n",
       "    .dataframe tbody tr th {\n",
       "        vertical-align: top;\n",
       "    }\n",
       "\n",
       "    .dataframe thead th {\n",
       "        text-align: right;\n",
       "    }\n",
       "</style>\n",
       "<table border=\"1\" class=\"dataframe\">\n",
       "  <thead>\n",
       "    <tr style=\"text-align: right;\">\n",
       "      <th></th>\n",
       "      <th>original</th>\n",
       "      <th>Document</th>\n",
       "    </tr>\n",
       "  </thead>\n",
       "  <tbody>\n",
       "    <tr>\n",
       "      <th>0</th>\n",
       "      <td>In the following excerpt, originally published...</td>\n",
       "      <td>following excerpt originally published italian...</td>\n",
       "    </tr>\n",
       "    <tr>\n",
       "      <th>1</th>\n",
       "      <td>by Umberto Eco</td>\n",
       "      <td>umberto eco</td>\n",
       "    </tr>\n",
       "    <tr>\n",
       "      <th>2</th>\n",
       "      <td>In 1953 Ian Fleming published the first novel ...</td>\n",
       "      <td>1953 ian fleming published first novel 007 ser...</td>\n",
       "    </tr>\n",
       "    <tr>\n",
       "      <th>3</th>\n",
       "      <td>To Spillane, Casino Royale owes, beyond doubt,...</td>\n",
       "      <td>spillane casino royale owes beyond doubt least...</td>\n",
       "    </tr>\n",
       "    <tr>\n",
       "      <th>4</th>\n",
       "      <td>In the second place Bond is obsessed by an ima...</td>\n",
       "      <td>second place bond obsessed image japanese expe...</td>\n",
       "    </tr>\n",
       "  </tbody>\n",
       "</table>\n",
       "</div>"
      ],
      "text/plain": [
       "                                            original  \\\n",
       "0  In the following excerpt, originally published...   \n",
       "1                                     by Umberto Eco   \n",
       "2  In 1953 Ian Fleming published the first novel ...   \n",
       "3  To Spillane, Casino Royale owes, beyond doubt,...   \n",
       "4  In the second place Bond is obsessed by an ima...   \n",
       "\n",
       "                                            Document  \n",
       "0  following excerpt originally published italian...  \n",
       "1                                        umberto eco  \n",
       "2  1953 ian fleming published first novel 007 ser...  \n",
       "3  spillane casino royale owes beyond doubt least...  \n",
       "4  second place bond obsessed image japanese expe...  "
      ]
     },
     "execution_count": 16,
     "metadata": {},
     "output_type": "execute_result"
    }
   ],
   "source": [
    "df.head()"
   ]
  },
  {
   "cell_type": "code",
   "execution_count": 25,
   "metadata": {},
   "outputs": [
    {
     "name": "stdout",
     "output_type": "stream",
     "text": [
      "following//excerpt//originally published italian 1965 eco offer detailed examination narrative formula fleming employed bond novel strategy eco regard basis success 007 saga\n"
     ]
    }
   ],
   "source": [
    "x = re.sub(\"\\s\", \"//\", df[\"Document\"][0], 2)\n",
    "print(x) "
   ]
  },
  {
   "cell_type": "code",
   "execution_count": 21,
   "metadata": {},
   "outputs": [
    {
     "name": "stdout",
     "output_type": "stream",
     "text": [
      "<re.Match object; span=(5, 7), match='ai'>\n"
     ]
    }
   ],
   "source": [
    "txt = \"The rain in Spain\"\n",
    "x = re.search(\"ai\", txt)\n",
    "print(x) #this will print an object "
   ]
  },
  {
   "cell_type": "code",
   "execution_count": 22,
   "metadata": {},
   "outputs": [
    {
     "name": "stdout",
     "output_type": "stream",
     "text": [
      "['succ']\n",
      "Yes, there is at least one match!\n"
     ]
    }
   ],
   "source": [
    "#Check if the string contains \"a\" followed by exactly two \"c\" characters:\n",
    "\n",
    "x = re.findall(\"suc{2}\", df[\"Document\"][0])\n",
    "\n",
    "print(x)\n",
    "\n",
    "if x:\n",
    "  print(\"Yes, there is at least one match!\")\n",
    "else:\n",
    "  print(\"No match\")\n"
   ]
  },
  {
   "cell_type": "code",
   "execution_count": 23,
   "metadata": {},
   "outputs": [
    {
     "name": "stdout",
     "output_type": "stream",
     "text": [
      "['bond', '007', 'saga']\n",
      "Yes, there is at least one match!\n"
     ]
    }
   ],
   "source": [
    "#Check if the string contains either \"bond\" or \"saga\":\n",
    "\n",
    "x = re.findall(\"bond|saga|007\", df[\"Document\"][0])\n",
    "\n",
    "print(x)\n",
    "\n",
    "if x:\n",
    "  print(\"Yes, there is at least one match!\")\n",
    "else:\n",
    "  print(\"No match\")"
   ]
  },
  {
   "cell_type": "code",
   "execution_count": 24,
   "metadata": {},
   "outputs": [
    {
     "name": "stdout",
     "output_type": "stream",
     "text": [
      "['succ']\n",
      "Yes, there is at least one match!\n"
     ]
    }
   ],
   "source": [
    "#Check if the string contains \"ai\" followed by 1 or more \"c\" characters:\n",
    "\n",
    "x = re.findall(\"suc+\", df[\"Document\"][0])\n",
    "#x = re.findall(\"suc*\", df[\"Document\"][0])  #Check if the string contains \"ai\" followed by 0 or more \"c\" characters:\n",
    "\n",
    "print(x)\n",
    "\n",
    "if x:\n",
    "  print(\"Yes, there is at least one match!\")\n",
    "else:\n",
    "  print(\"No match\")"
   ]
  },
  {
   "cell_type": "code",
   "execution_count": 25,
   "metadata": {},
   "outputs": [
    {
     "name": "stdout",
     "output_type": "stream",
     "text": [
      "Yes, the string ends with ['saga']\n"
     ]
    }
   ],
   "source": [
    "#Check if the string ends with 'saga':\n",
    "\n",
    "x = re.findall(\"saga$\", df[\"Document\"][0])\n",
    "if x:\n",
    "  print(f\"Yes, the string ends with {x}\")\n",
    "else:\n",
    "  print(\"No match\")"
   ]
  },
  {
   "cell_type": "code",
   "execution_count": 26,
   "metadata": {},
   "outputs": [
    {
     "name": "stdout",
     "output_type": "stream",
     "text": [
      "Yes, the string starts with 'hello'\n"
     ]
    }
   ],
   "source": [
    "#Check if the string starts with 'following':\n",
    "\n",
    "x = re.findall(\"^following\", df[\"Document\"][0])\n",
    "if x:\n",
    "  print(\"Yes, the string starts with 'hello'\")\n",
    "else:\n",
    "  print(\"No match\")"
   ]
  },
  {
   "cell_type": "code",
   "execution_count": 27,
   "metadata": {},
   "outputs": [
    {
     "name": "stdout",
     "output_type": "stream",
     "text": [
      "['italian']\n"
     ]
    }
   ],
   "source": [
    "#Search for a sequence that starts with \"it\", followed by two (any) characters, and an \"n\": alian\n",
    "\n",
    "x = re.findall(\"it....n\", df[\"Document\"][0])\n",
    "print(x)"
   ]
  },
  {
   "cell_type": "code",
   "execution_count": 28,
   "metadata": {},
   "outputs": [
    {
     "name": "stdout",
     "output_type": "stream",
     "text": [
      "['1', '9', '6', '5', '0', '0', '7']\n"
     ]
    }
   ],
   "source": [
    "#Find all digit characters:\n",
    "\n",
    "x = re.findall(\"\\d\", df[\"Document\"][0])\n",
    "print(x)\n"
   ]
  },
  {
   "cell_type": "code",
   "execution_count": 29,
   "metadata": {},
   "outputs": [
    {
     "name": "stdout",
     "output_type": "stream",
     "text": [
      "['saga']\n",
      "Yes, there is a match!\n"
     ]
    }
   ],
   "source": [
    "#Check if the string ends with \"Spain\":\n",
    "\n",
    "x = re.findall(\"saga\\Z\", df[\"Document\"][0])\n",
    "\n",
    "print(x)\n",
    "\n",
    "if x:\n",
    "  print(\"Yes, there is a match!\")\n",
    "else:\n",
    "  print(\"No match\")"
   ]
  },
  {
   "cell_type": "code",
   "execution_count": 30,
   "metadata": {},
   "outputs": [
    {
     "name": "stdout",
     "output_type": "stream",
     "text": [
      "[' ', ' ', ' ', ', ', ' ', ' ', ' ', ' ', ' ', ', ', ' ', ' ', ' ', ' ', ' ', ' ', ' ', ' ', ' ', ' ', ' ', ' ', ' ', ' ', ' ', ' ', ', ', ' ', ' ', ' ', ' ', ' “', ' ', ' ', ' ', ' ', ' ', ' ', ' ‘', '’ ', '.”']\n",
      "Yes, there is at least one match!\n"
     ]
    }
   ],
   "source": [
    "#Return a match at every NON word character (characters NOT between a and Z. Like \"!\", \"?\" white-space etc.):\n",
    "\n",
    "x = re.findall(\"\\W+\",  df[\"original\"][0])\n",
    "\n",
    "print(x)\n",
    "\n",
    "if x:\n",
    "  print(\"Yes, there is at least one match!\")\n",
    "else:\n",
    "  print(\"No match\")"
   ]
  },
  {
   "cell_type": "code",
   "execution_count": 31,
   "metadata": {},
   "outputs": [
    {
     "name": "stdout",
     "output_type": "stream",
     "text": [
      "In  the  following  excerpt   originally  published  in  Italian  in  1965   Eco  offers  a  detailed  examination  of  the  narrative  formula  that  Fleming  employed  in  all  the  Bond  novels   a  strategy  Eco  regards  as   the  basis  of  the  success  of  the   007   saga   \n",
      "Yes, there is at least one match!\n"
     ]
    }
   ],
   "source": [
    "#Return a match at every word character (characters from a to Z, digits from 0-9, and the underscore _ character):\n",
    "\n",
    "x = re.findall(\"\\w*\", df[\"original\"][0])\n",
    "\n",
    "print(\" \".join(x))\n",
    "\n",
    "if x:\n",
    "  print(\"Yes, there is at least one match!\")\n",
    "else:\n",
    "  print(\"No match\")\n"
   ]
  },
  {
   "cell_type": "code",
   "execution_count": 32,
   "metadata": {},
   "outputs": [
    {
     "name": "stdout",
     "output_type": "stream",
     "text": [
      "['I', 'n', 't', 'h', 'e', 'f', 'o', 'l', 'l', 'o', 'w', 'i', 'n', 'g', 'e', 'x', 'c', 'e', 'r', 'p', 't', ',', 'o', 'r', 'i', 'g', 'i', 'n', 'a', 'l', 'l', 'y', 'p', 'u', 'b', 'l', 'i', 's', 'h', 'e', 'd', 'i', 'n', 'I', 't', 'a', 'l', 'i', 'a', 'n', 'i', 'n', '1', '9', '6', '5', ',', 'E', 'c', 'o', 'o', 'f', 'f', 'e', 'r', 's', 'a', 'd', 'e', 't', 'a', 'i', 'l', 'e', 'd', 'e', 'x', 'a', 'm', 'i', 'n', 'a', 't', 'i', 'o', 'n', 'o', 'f', 't', 'h', 'e', 'n', 'a', 'r', 'r', 'a', 't', 'i', 'v', 'e', 'f', 'o', 'r', 'm', 'u', 'l', 'a', 't', 'h', 'a', 't', 'F', 'l', 'e', 'm', 'i', 'n', 'g', 'e', 'm', 'p', 'l', 'o', 'y', 'e', 'd', 'i', 'n', 'a', 'l', 'l', 't', 'h', 'e', 'B', 'o', 'n', 'd', 'n', 'o', 'v', 'e', 'l', 's', ',', 'a', 's', 't', 'r', 'a', 't', 'e', 'g', 'y', 'E', 'c', 'o', 'r', 'e', 'g', 'a', 'r', 'd', 's', 'a', 's', '“', 't', 'h', 'e', 'b', 'a', 's', 'i', 's', 'o', 'f', 't', 'h', 'e', 's', 'u', 'c', 'c', 'e', 's', 's', 'o', 'f', 't', 'h', 'e', '‘', '0', '0', '7', '’', 's', 'a', 'g', 'a', '.', '”']\n",
      "Yes, there is at least one match!\n"
     ]
    }
   ],
   "source": [
    "#Return a match at every NON white-space character:\n",
    "\n",
    "x = re.findall(\"\\S\", df[\"original\"][0])\n",
    "\n",
    "print(x)\n",
    "\n",
    "if x:\n",
    "  print(\"Yes, there is at least one match!\")\n",
    "else:\n",
    "  print(\"No match\")"
   ]
  },
  {
   "cell_type": "code",
   "execution_count": 33,
   "metadata": {},
   "outputs": [
    {
     "name": "stdout",
     "output_type": "stream",
     "text": [
      "[' ', ' ', ' ', ' ', ' ', ' ', ' ', ' ', ' ', ' ', ' ', ' ', ' ', ' ', ' ', ' ', ' ', ' ', ' ', ' ', ' ', ' ', ' ', ' ', ' ', ' ', ' ', ' ', ' ', ' ', ' ', ' ', ' ', ' ', ' ', ' ', ' ', ' ', ' ', ' ']\n",
      "Yes, there is at least one match!\n"
     ]
    }
   ],
   "source": [
    "x = re.findall(\"\\s\", df[\"original\"][0])\n",
    "\n",
    "print(x)\n",
    "\n",
    "if x:\n",
    "  print(\"Yes, there is at least one match!\")\n",
    "else:\n",
    "  print(\"No match\")"
   ]
  },
  {
   "cell_type": "code",
   "execution_count": 34,
   "metadata": {},
   "outputs": [
    {
     "name": "stdout",
     "output_type": "stream",
     "text": [
      "In the following excerpt, originally published in Italian in , Eco offers a detailed examination of the narrative formula that Fleming employed in all the Bond novels, a strategy Eco regards as “the basis of the success of the ‘’ saga.”\n",
      "Yes, there is at least one match!\n"
     ]
    }
   ],
   "source": [
    "#Return a match at every no-digit character:\n",
    "\n",
    "x = re.findall(\"\\D\", df[\"original\"][0])\n",
    "\n",
    "print(\"\".join(x))\n",
    "\n",
    "if x:\n",
    "  print(\"Yes, there is at least one match!\")\n",
    "else:\n",
    "  print(\"No match\")"
   ]
  },
  {
   "cell_type": "code",
   "execution_count": 35,
   "metadata": {},
   "outputs": [
    {
     "name": "stdout",
     "output_type": "stream",
     "text": [
      "['', '', '', '', '', '', '', '', '', '', '', '', '', '', '', '', '', '', '', '', '', '', '', '', '', '', '', '', '', '', '', '', '', '', '', '', '', '', '', '', '', '', '', '', '', '', '', '', '', '', '', '', '', '', '', '', '', '', '', '', '', '1965', '', '', '', '', '', '', '', '', '', '', '', '', '', '', '', '', '', '', '', '', '', '', '', '', '', '', '', '', '', '', '', '', '', '', '', '', '', '', '', '', '', '', '', '', '', '', '', '', '', '', '', '', '', '', '', '', '', '', '', '', '', '', '', '', '', '', '', '', '', '', '', '', '', '', '', '', '', '', '', '', '', '', '', '', '', '', '', '', '', '', '', '', '', '', '', '', '', '', '', '', '', '', '', '', '', '', '', '', '', '', '', '', '', '', '', '', '', '', '', '', '', '', '', '', '', '', '', '', '', '', '', '', '', '', '', '', '', '', '', '', '', '', '', '', '', '', '', '', '', '', '', '', '', '', '', '', '', '', '', '', '', '', '', '', '', '', '', '007', '', '', '', '', '', '', '', '', '']\n",
      "Yes, there is at least one match!\n"
     ]
    }
   ],
   "source": [
    "#Check if the string contains any digits (numbers from 0-9):\n",
    "\n",
    "x = re.findall(\"\\d*\", df[\"original\"][0])\n",
    "\n",
    "print(x)\n",
    "\n",
    "if x:\n",
    "  print(\"Yes, there is at least one match!\")\n",
    "else:\n",
    "  print(\"No match\")"
   ]
  },
  {
   "cell_type": "code",
   "execution_count": 36,
   "metadata": {},
   "outputs": [
    {
     "name": "stdout",
     "output_type": "stream",
     "text": [
      "['1965', '007']\n",
      "Yes, there is at least one match!\n"
     ]
    }
   ],
   "source": [
    "#Check if the string contains any digits (numbers from 0-9):\n",
    "\n",
    "x = re.findall(\"\\d+\", df[\"original\"][0])\n",
    "\n",
    "print(x)\n",
    "\n",
    "if x:\n",
    "  print(\"Yes, there is at least one match!\")\n",
    "else:\n",
    "  print(\"No match\")"
   ]
  },
  {
   "cell_type": "code",
   "execution_count": 37,
   "metadata": {},
   "outputs": [
    {
     "name": "stdout",
     "output_type": "stream",
     "text": [
      "['ally']\n",
      "Yes, there is at least one match!\n"
     ]
    }
   ],
   "source": [
    "#Check if \"ally\" is present, but NOT at the beginning of a word:\n",
    "\n",
    "x = re.findall(r\"\\Bally\", df[\"original\"][0])\n",
    "\n",
    "print(x)\n",
    "\n",
    "if x:\n",
    "  print(\"Yes, there is at least one match!\")\n",
    "else:\n",
    "  print(\"No match\")"
   ]
  },
  {
   "cell_type": "code",
   "execution_count": 38,
   "metadata": {},
   "outputs": [
    {
     "name": "stdout",
     "output_type": "stream",
     "text": [
      "['sa']\n",
      "Yes, there is at least one match!\n"
     ]
    }
   ],
   "source": [
    "#Check if \"sa\" is present at the beginning of a WORD: saga\n",
    "\n",
    "x = re.findall(r\"\\bsa\", df[\"original\"][0])\n",
    "\n",
    "print(x)\n",
    "\n",
    "if x:\n",
    "  print(\"Yes, there is at least one match!\")\n",
    "else:\n",
    "  print(\"No match\")"
   ]
  },
  {
   "cell_type": "code",
   "execution_count": 39,
   "metadata": {},
   "outputs": [
    {
     "name": "stdout",
     "output_type": "stream",
     "text": [
      "['ga']\n",
      "Yes, there is at least one match!\n"
     ]
    }
   ],
   "source": [
    "#Check if \"ga\" is present at the end of a WORD: saga\n",
    "\n",
    "x = re.findall(r\"ga\\b\", df[\"original\"][0])\n",
    "\n",
    "print(x)\n",
    "\n",
    "if x:\n",
    "  print(\"Yes, there is at least one match!\")\n",
    "else:\n",
    "  print(\"No match\")"
   ]
  },
  {
   "cell_type": "code",
   "execution_count": 40,
   "metadata": {},
   "outputs": [
    {
     "data": {
      "text/plain": [
       "'In the following excerpt, originally published in Italian in 1965, Eco offers a detailed examination of the narrative formula that Fleming employed in all the Bond novels, a strategy Eco regards as “the basis of the success of the ‘007’ saga.”'"
      ]
     },
     "execution_count": 40,
     "metadata": {},
     "output_type": "execute_result"
    }
   ],
   "source": [
    "df[\"original\"][0]"
   ]
  },
  {
   "cell_type": "code",
   "execution_count": 41,
   "metadata": {},
   "outputs": [
    {
     "name": "stdout",
     "output_type": "stream",
     "text": [
      "['In']\n",
      "Yes, there is a match!\n"
     ]
    }
   ],
   "source": [
    "#Check if the string starts with \"The\":\n",
    "\n",
    "x = re.findall(\"\\AIn\", df[\"original\"][0])\n",
    "\n",
    "print(x)\n",
    "\n",
    "if x:\n",
    "  print(\"Yes, there is a match!\")\n",
    "else:\n",
    "  print(\"No match\")"
   ]
  },
  {
   "cell_type": "code",
   "execution_count": 42,
   "metadata": {},
   "outputs": [
    {
     "name": "stdout",
     "output_type": "stream",
     "text": [
      "['fo', 'o', 'o', 'o', 'off', 'o', 'of', 'fo', 'o', 'o', 'o', 'o', 'of', 'of']\n",
      "Yes, there is at least one match!\n"
     ]
    }
   ],
   "source": [
    "#Check if the string has any \"of\" characters:\n",
    "\n",
    "x = re.findall(\"[of]+\", df[\"original\"][0])\n",
    "\n",
    "print(x)\n",
    "\n",
    "if x:\n",
    "  print(\"Yes, there is at least one match!\")\n",
    "else:\n",
    "  print(\"No match\")\n"
   ]
  },
  {
   "cell_type": "code",
   "execution_count": 43,
   "metadata": {},
   "outputs": [
    {
     "name": "stdout",
     "output_type": "stream",
     "text": [
      "['n', 'he', 'f', 'll', 'ing', 'e', 'ce', 'iginall', 'bli', 'hed', 'in', 'alian', 'in', 'c', 'ffe', 'a', 'de', 'ailed', 'e', 'amina', 'i', 'n', 'f', 'he', 'na', 'a', 'i', 'e', 'f', 'm', 'la', 'ha', 'leming', 'em', 'l', 'ed', 'in', 'all', 'he', 'nd', 'n', 'el', 'a', 'a', 'eg', 'c', 'ega', 'd', 'a', 'he', 'ba', 'i', 'f', 'he', 'cce', 'f', 'he', 'aga']\n",
      "Yes, there is at least one match!\n"
     ]
    }
   ],
   "source": [
    "#Check if the string has any characters between a and n:\n",
    "\n",
    "x = re.findall(\"[a-n]+\", df[\"original\"][0])\n",
    "\n",
    "print(x)\n",
    "\n",
    "if x:\n",
    "  print(\"Yes, there is at least one match!\")\n",
    "else:\n",
    "  print(\"No match\")"
   ]
  },
  {
   "cell_type": "code",
   "execution_count": 44,
   "metadata": {},
   "outputs": [
    {
     "name": "stdout",
     "output_type": "stream",
     "text": [
      "['I', ' the f', 'll', 'wi', 'g excerpt, ', 'rigi', 'ally publishe', ' i', ' Italia', ' i', ' 1965, Ec', ' ', 'ffers a ', 'etaile', ' exami', 'ati', ' ', 'f the ', 'arrative f', 'rmula that Flemi', 'g empl', 'ye', ' i', ' all the B', ' ', 'vels, a strategy Ec', ' regar', 's as “the basis ', 'f the success ', 'f the ‘007’ saga.”']\n",
      "Yes, there is at least one match!\n"
     ]
    }
   ],
   "source": [
    "#Check if the string has other characters than 0, d, or n:\n",
    "\n",
    "x = re.findall(\"[^ond]+\", df[\"original\"][0])\n",
    "\n",
    "print(x)\n",
    "\n",
    "if x:\n",
    "  print(\"Yes, there is at least one match!\")\n",
    "else:\n",
    "  print(\"No match\")"
   ]
  },
  {
   "cell_type": "code",
   "execution_count": null,
   "metadata": {},
   "outputs": [],
   "source": []
  },
  {
   "cell_type": "code",
   "execution_count": null,
   "metadata": {},
   "outputs": [],
   "source": []
  }
 ],
 "metadata": {
  "kernelspec": {
   "display_name": "Python 3 (ipykernel)",
   "language": "python",
   "name": "python3"
  },
  "language_info": {
   "codemirror_mode": {
    "name": "ipython",
    "version": 3
   },
   "file_extension": ".py",
   "mimetype": "text/x-python",
   "name": "python",
   "nbconvert_exporter": "python",
   "pygments_lexer": "ipython3",
   "version": "3.9.12"
  }
 },
 "nbformat": 4,
 "nbformat_minor": 4
}
