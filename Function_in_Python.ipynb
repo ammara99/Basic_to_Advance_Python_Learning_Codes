{
 "cells": [
  {
   "cell_type": "code",
   "execution_count": null,
   "id": "0c6f8ee6",
   "metadata": {},
   "outputs": [],
   "source": [
    "def show():    # Function without Return Type and Arguments\n",
    "    print(\"Functions\")\n",
    "    \n",
    "show()"
   ]
  },
  {
   "cell_type": "code",
   "execution_count": null,
   "id": "141ac1f6",
   "metadata": {
    "scrolled": true
   },
   "outputs": [],
   "source": [
    "def show(x):  # Function without Return Type and have Arguments\n",
    "    print(\"Value of X : \",x)\n",
    "\n",
    "x=int(input(\"Enter Value of X: \"))\n",
    "show(x)"
   ]
  },
  {
   "cell_type": "code",
   "execution_count": null,
   "id": "74535952",
   "metadata": {},
   "outputs": [],
   "source": [
    "def summ(x,y):  # Function without Return Type and have Arguments\n",
    "    res= x+y\n",
    "    print(\"Sum is : \", res)\n",
    "\n",
    "x=int(input(\"Enter 1st Value: \"))\n",
    "y=int(input(\"Enter Second Value: \"))\n",
    "summ(x,y)\n",
    "    "
   ]
  },
  {
   "cell_type": "code",
   "execution_count": null,
   "id": "65466b8b",
   "metadata": {},
   "outputs": [],
   "source": [
    "def summ():  # Function with Return Type and no Arguments\n",
    "    x=int(input(\"Enter 1st Value: \"))\n",
    "    y=int(input(\"Enter Second Value: \"))\n",
    "    res= x+y\n",
    "    \n",
    "    return res\n",
    "\n",
    "print(\"Sum is:\" , summ())\n",
    "    "
   ]
  },
  {
   "cell_type": "code",
   "execution_count": 4,
   "id": "536cb0e7",
   "metadata": {},
   "outputs": [
    {
     "name": "stdout",
     "output_type": "stream",
     "text": [
      "Enter 1st Value: 5\n",
      "Enter Second Value: 5\n",
      "Res is : (10, 0)\n"
     ]
    }
   ],
   "source": [
    "def show():  # Function with Return Type and no Arguments\n",
    "    x=int(input(\"Enter 1st Value: \"))\n",
    "    y=int(input(\"Enter Second Value: \"))\n",
    "    sum= x+y\n",
    "    sub=x-y\n",
    "    return sum,sub\n",
    "\n",
    "print(\"Res is :\", show())\n",
    "    "
   ]
  },
  {
   "cell_type": "code",
   "execution_count": 2,
   "id": "3996e998",
   "metadata": {},
   "outputs": [
    {
     "name": "stdout",
     "output_type": "stream",
     "text": [
      "Enter 1st Value: 5\n",
      "Enter Second Value: 5\n",
      "The Sum is : 10\n",
      "The Sub is : 0\n"
     ]
    }
   ],
   "source": [
    "def show(x,y):  # Function with Return Type and Arguments \n",
    "    sum= x+y\n",
    "    sub=x-y\n",
    "    return sum,sub\n",
    "\n",
    "x=int(input(\"Enter 1st Value: \"))\n",
    "y=int(input(\"Enter Second Value: \"))\n",
    "sum,sub=show(x,y)\n",
    "print(\"The Sum is :\", sum)\n",
    "print(\"The Sub is :\", sub)"
   ]
  },
  {
   "cell_type": "code",
   "execution_count": 6,
   "id": "464db493",
   "metadata": {},
   "outputs": [
    {
     "name": "stdout",
     "output_type": "stream",
     "text": [
      "Sum is : 13\n"
     ]
    }
   ],
   "source": [
    "def show (x):\n",
    "    sum=0\n",
    "    for i in x:\n",
    "        sum = sum + i\n",
    "    print(\"Sum is :\", sum)\n",
    "    \n",
    "x=[1,3,4,5]\n",
    "show(x)"
   ]
  },
  {
   "cell_type": "code",
   "execution_count": 7,
   "id": "abe93ef0",
   "metadata": {},
   "outputs": [
    {
     "name": "stdout",
     "output_type": "stream",
     "text": [
      "Sum is : 15\n"
     ]
    }
   ],
   "source": [
    "def show (*x):\n",
    "    sum=0\n",
    "    for i in x:\n",
    "        sum = sum + i\n",
    "    print(\"Sum is :\", sum)\n",
    "    \n",
    "show(1,2,3,4,5)"
   ]
  },
  {
   "cell_type": "code",
   "execution_count": null,
   "id": "ea209a7e",
   "metadata": {},
   "outputs": [],
   "source": []
  }
 ],
 "metadata": {
  "kernelspec": {
   "display_name": "Python 3 (ipykernel)",
   "language": "python",
   "name": "python3"
  },
  "language_info": {
   "codemirror_mode": {
    "name": "ipython",
    "version": 3
   },
   "file_extension": ".py",
   "mimetype": "text/x-python",
   "name": "python",
   "nbconvert_exporter": "python",
   "pygments_lexer": "ipython3",
   "version": "3.9.12"
  }
 },
 "nbformat": 4,
 "nbformat_minor": 5
}
