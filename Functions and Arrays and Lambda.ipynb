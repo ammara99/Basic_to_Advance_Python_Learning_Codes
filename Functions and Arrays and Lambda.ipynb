{
 "cells": [
  {
   "cell_type": "code",
   "execution_count": 1,
   "id": "fa22817c",
   "metadata": {},
   "outputs": [
    {
     "name": "stdout",
     "output_type": "stream",
     "text": [
      "1\n",
      "30\n",
      "3\n"
     ]
    }
   ],
   "source": [
    "x=[1,15,20,30,3]\n",
    "for i in x:\n",
    "    if (i==15 or i==20):\n",
    "        continue\n",
    "    print(i)"
   ]
  },
  {
   "cell_type": "code",
   "execution_count": 2,
   "id": "6766ff62",
   "metadata": {},
   "outputs": [
    {
     "name": "stdout",
     "output_type": "stream",
     "text": [
      "1\n",
      "15\n",
      "20\n"
     ]
    }
   ],
   "source": [
    "x=[1,15,20,30,3]\n",
    "for i in x:\n",
    "    print(i)\n",
    "    if(i==20 or i==30):\n",
    "        break\n",
    "    "
   ]
  },
  {
   "cell_type": "code",
   "execution_count": 3,
   "id": "66ec5321",
   "metadata": {},
   "outputs": [
    {
     "name": "stdout",
     "output_type": "stream",
     "text": [
      "OOPS\n"
     ]
    }
   ],
   "source": [
    "x=30; y=50\n",
    "if(x==30 and y==50):\n",
    "    print(\"OOPS\")"
   ]
  },
  {
   "cell_type": "code",
   "execution_count": 6,
   "id": "ddf88c1c",
   "metadata": {},
   "outputs": [
    {
     "name": "stdout",
     "output_type": "stream",
     "text": [
      "Hello\n"
     ]
    }
   ],
   "source": [
    "def show():\n",
    "    print(\"Hello\")\n",
    "    \n",
    "if __name__==\"__main__\":\n",
    "    show()"
   ]
  },
  {
   "cell_type": "code",
   "execution_count": null,
   "id": "27fec9b6",
   "metadata": {},
   "outputs": [],
   "source": [
    "def show(x):\n",
    "    print(x*10)\n",
    "\n",
    "x=int(input(\"Enter Value of X : \"))\n",
    "\n",
    "#if __name__==\"__main__\":\n",
    "    show(x)"
   ]
  },
  {
   "cell_type": "code",
   "execution_count": null,
   "id": "5bb29fce",
   "metadata": {},
   "outputs": [],
   "source": [
    "def show(x,y,ch):\n",
    "    if(ch==1):\n",
    "        res=x*y\n",
    "        return res\n",
    "    elif (ch==2):\n",
    "        res=x+y\n",
    "        return res\n",
    "    else:\n",
    "        return x-y\n",
    "    \n",
    "\n",
    "x=int(input(\"Enter Value of x:\"))\n",
    "y=int(input(\"Enter Value of y:\"))\n",
    "print(\"\\n \\t Enter Your choice\")\n",
    "ch=int(input(\"1 for (*)ply \\n Enter 2 for (+)ition \\n By default (-)traction:\"))\n",
    "\n",
    "show(x,y,ch)\n"
   ]
  },
  {
   "cell_type": "markdown",
   "id": "bb4b9a7f",
   "metadata": {},
   "source": [
    "### Dictionary Mapping\n",
    "\n",
    "If you know the basic python language then you must be familiar with a dictionary and its pattern of storing a group of objects in memory using key-value pairs. So, when we use the dictionary to replace the Switch case statement, the key value of the dictionary data type works as cases in a switch statement.\n",
    "\n",
    "Example:# "
   ]
  },
  {
   "cell_type": "code",
   "execution_count": 7,
   "id": "dccbe221",
   "metadata": {},
   "outputs": [
    {
     "name": "stdout",
     "output_type": "stream",
     "text": [
      "{1: 'Summers', 2: 'Winters'}\n"
     ]
    }
   ],
   "source": [
    "def show():\n",
    "    return \"Summers\"\n",
    "def show2():\n",
    "    return \"Winters\"\n",
    "\n",
    "\n",
    "data={1: show(), 2: show2()}\n",
    "\n",
    "print(data)"
   ]
  },
  {
   "cell_type": "code",
   "execution_count": null,
   "id": "0a068a98",
   "metadata": {},
   "outputs": [],
   "source": [
    "def show():\n",
    "    return \"Summers\"\n",
    "def show2():\n",
    "    return \"Winters\"\n",
    "def default():\n",
    "    return \"Incorrect choice\"\n",
    "\n",
    "\n",
    "data={1: show, 2: show2}\n",
    "\n",
    "\n",
    "def test(x):\n",
    "    return data.get(x, default)()\n",
    "      \n",
    "\n",
    "x=int(input(\"Choice\"))\n",
    "print(test(x))\n",
    "\n"
   ]
  },
  {
   "cell_type": "code",
   "execution_count": null,
   "id": "5b947d81",
   "metadata": {},
   "outputs": [],
   "source": [
    "def show1():\n",
    "    return \"Summers\"\n",
    "def show2():\n",
    "    return \"Winters\"\n",
    "def show3():\n",
    "    return \"Autumn\"\n",
    "def deafault():\n",
    "    return \"Invalid Choice\"\n",
    "\n",
    "\n",
    "\n",
    "data={1: show1, 2: show2, 3: show3}\n",
    "\n",
    "def test(x):\n",
    "    return data.get(x, default)()\n",
    "\n",
    "print(\"*** We will tell you the season enter your choice form 1-3: \")\n",
    "x=int(input(\"Enter your choice\"))\n",
    "\n",
    "print(test(x))\n"
   ]
  },
  {
   "cell_type": "code",
   "execution_count": null,
   "id": "df752f31",
   "metadata": {},
   "outputs": [],
   "source": [
    "def show(*x):\n",
    "    print(x)\n",
    "    \n",
    "if __name__==\"__main__\":\n",
    "    show(1,2,3,4,5,6)"
   ]
  },
  {
   "cell_type": "code",
   "execution_count": null,
   "id": "aedf760d",
   "metadata": {},
   "outputs": [],
   "source": [
    "def add_sub(x,y):\n",
    "    return x*2, y*2\n",
    "\n",
    "add_sub(3,2)"
   ]
  },
  {
   "cell_type": "code",
   "execution_count": null,
   "id": "fee122a2",
   "metadata": {},
   "outputs": [],
   "source": [
    "def add(*x):\n",
    "    sum=0\n",
    "    \n",
    "    for i in x:\n",
    "        sum=sum+i\n",
    "    print(sum)\n",
    "\n",
    "\n",
    "add(5,10,100,200)\n"
   ]
  },
  {
   "cell_type": "code",
   "execution_count": null,
   "id": "4d725975",
   "metadata": {},
   "outputs": [],
   "source": [
    "import array"
   ]
  },
  {
   "cell_type": "code",
   "execution_count": null,
   "id": "ba4dbc65",
   "metadata": {},
   "outputs": [],
   "source": [
    "from array import*"
   ]
  },
  {
   "cell_type": "code",
   "execution_count": null,
   "id": "b19e7f42",
   "metadata": {},
   "outputs": [],
   "source": [
    "x=array('i',[30,55,5])\n",
    "for i in range(len(x)):\n",
    "    print(x[i])"
   ]
  },
  {
   "cell_type": "code",
   "execution_count": null,
   "id": "e33f8c7a",
   "metadata": {},
   "outputs": [],
   "source": [
    "x=array('i',[30,55,5])\n",
    "for i in x:\n",
    "    print(i)"
   ]
  },
  {
   "cell_type": "code",
   "execution_count": null,
   "id": "f43cd957",
   "metadata": {},
   "outputs": [],
   "source": [
    "x=array('u', [\"a\",\"x\"])\n",
    "for i in range(2):\n",
    "    print(x[i])"
   ]
  },
  {
   "cell_type": "code",
   "execution_count": null,
   "id": "18f9284a",
   "metadata": {},
   "outputs": [],
   "source": [
    "arr=array('f',[])\n",
    "for i in range(3):\n",
    "    x=int(input(\"enter value : \"))\n",
    "    arr.append(x)\n",
    "\n",
    "print(arr)"
   ]
  },
  {
   "cell_type": "code",
   "execution_count": null,
   "id": "3cf76c85",
   "metadata": {},
   "outputs": [],
   "source": [
    "x=array('i', [2,4])\n",
    "y=array(x.typecode, (i*i for i in x))\n",
    "for i in y:\n",
    "    print(i)"
   ]
  },
  {
   "cell_type": "code",
   "execution_count": null,
   "id": "845eb118",
   "metadata": {},
   "outputs": [],
   "source": []
  }
 ],
 "metadata": {
  "kernelspec": {
   "display_name": "Python 3 (ipykernel)",
   "language": "python",
   "name": "python3"
  },
  "language_info": {
   "codemirror_mode": {
    "name": "ipython",
    "version": 3
   },
   "file_extension": ".py",
   "mimetype": "text/x-python",
   "name": "python",
   "nbconvert_exporter": "python",
   "pygments_lexer": "ipython3",
   "version": "3.9.7"
  }
 },
 "nbformat": 4,
 "nbformat_minor": 5
}
